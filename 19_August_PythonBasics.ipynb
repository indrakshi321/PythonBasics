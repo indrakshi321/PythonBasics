{
  "nbformat": 4,
  "nbformat_minor": 0,
  "metadata": {
    "colab": {
      "provenance": []
    },
    "kernelspec": {
      "name": "python3",
      "display_name": "Python 3"
    },
    "language_info": {
      "name": "python"
    }
  },
  "cells": [
    {
      "cell_type": "code",
      "execution_count": null,
      "metadata": {
        "colab": {
          "base_uri": "https://localhost:8080/"
        },
        "id": "K31hdSSd3dQD",
        "outputId": "1c62028c-40ed-4f9b-e41a-e690d7bc9bda"
      },
      "outputs": [
        {
          "output_type": "stream",
          "name": "stdout",
          "text": [
            "8 5\n"
          ]
        }
      ],
      "source": [
        "# 1.Declare two variables, `x` and `y`, and assign them integer values. Swap the values of these variables without using any temporary variable.\n",
        "x = 5\n",
        "y = 8\n",
        "x = x+y\n",
        "y = x-y\n",
        "x = x-y\n",
        "print (x,y)\n"
      ]
    },
    {
      "cell_type": "code",
      "source": [
        "# 2.Create a program that calculates the area of a rectangle. Take the length and width as inputs from the user and store them in variables. Calculate and display the area.\n",
        "# Here length and width are represented by l and w respectively.Area is represented as a.\n",
        "print (\"Enter the length and width of rectangle\")\n",
        "l = float(input())\n",
        "w = float(input())\n",
        "a = l*w\n",
        "print(a)\n"
      ],
      "metadata": {
        "colab": {
          "base_uri": "https://localhost:8080/"
        },
        "id": "8tMBn4ho7Z1u",
        "outputId": "c85e30c7-65a5-4ec9-8989-74fbd2fdcd23"
      },
      "execution_count": null,
      "outputs": [
        {
          "output_type": "stream",
          "name": "stdout",
          "text": [
            "Enter the length and width of rectangle\n",
            "56\n",
            "43\n",
            "2408.0\n"
          ]
        }
      ]
    },
    {
      "cell_type": "code",
      "source": [
        "# 3.Write a Python program that converts temperatures from Celsius to Fahrenheit. Take the temperature in Celsius as input, store it in a variable, convert it to Fahrenheit, and display the result.\n",
        "\n",
        "# Here temperature in celcisus is represented by c , and tempertaure in farenhite is represented by f .\n",
        "c = float(input())\n",
        "f = ((c*9)/5) + 32\n",
        "print (f)\n"
      ],
      "metadata": {
        "colab": {
          "base_uri": "https://localhost:8080/"
        },
        "id": "oMfgWxvz8XYf",
        "outputId": "e280c7b9-6c60-4cbe-ecb2-75cb95dbe101"
      },
      "execution_count": null,
      "outputs": [
        {
          "output_type": "stream",
          "name": "stdout",
          "text": [
            "35\n",
            "95.0\n"
          ]
        }
      ]
    },
    {
      "cell_type": "code",
      "source": [
        "# TOPIC: String Based Questions"
      ],
      "metadata": {
        "id": "CTGOCt5B0kcH"
      },
      "execution_count": null,
      "outputs": []
    },
    {
      "cell_type": "code",
      "source": [
        "# 1. Write a Python program that takes a string as input and prints the length of the string.\n",
        "a = input(\"Enter any word : \")\n",
        "b = len(a)\n",
        "print(b)"
      ],
      "metadata": {
        "id": "M7HwEmPy-aMa",
        "colab": {
          "base_uri": "https://localhost:8080/"
        },
        "outputId": "96a60189-eb3c-4402-ec61-efef4b1bd2cc"
      },
      "execution_count": null,
      "outputs": [
        {
          "output_type": "stream",
          "name": "stdout",
          "text": [
            "Enter any word : Holiday\n",
            "7\n"
          ]
        }
      ]
    },
    {
      "cell_type": "code",
      "source": [
        "# 2. Create a program that takes a sentence from the user and counts the number of vowels (a, e, i, o, u) in the string.\n",
        "sentence = input(\"Write a sentence: \")\n",
        "string = sentence.lower(  )\n",
        "vowel = \"aeiouAEIOU\"\n",
        "count = 0\n",
        "list1 = [\"a\" , \"e\" , \"i\" , \"o\" , \"u\"]\n",
        "for char in string:\n",
        "  if char in list1:\n",
        "    count = count+1\n",
        "print(\"Number of vowels : \" , count)\n",
        "\n"
      ],
      "metadata": {
        "colab": {
          "base_uri": "https://localhost:8080/"
        },
        "id": "sFal-vFKAhiA",
        "outputId": "17a14eaf-3284-4562-9bc2-4008e79b2ce0"
      },
      "execution_count": null,
      "outputs": [
        {
          "output_type": "stream",
          "name": "stdout",
          "text": [
            "Write a sentence: Its a sunny day\n",
            "Number of vowels :  4\n"
          ]
        }
      ]
    },
    {
      "cell_type": "code",
      "source": [
        "# 3 .Given a string, reverse the order of characters using string slicing and print the reversed string.\n",
        "\n",
        "s1 = \"Holiday\"\n",
        "newString = s1[ : : -1]\n",
        "print(newString)\n"
      ],
      "metadata": {
        "colab": {
          "base_uri": "https://localhost:8080/"
        },
        "id": "Yuo8-aRWD3Lk",
        "outputId": "dcef0478-5b19-4865-ac87-3d9d401a2fc3"
      },
      "execution_count": null,
      "outputs": [
        {
          "output_type": "stream",
          "name": "stdout",
          "text": [
            "yadiloH\n"
          ]
        }
      ]
    },
    {
      "cell_type": "code",
      "source": [
        "# 4.  Write a program that takes a string as input and checks if it is a palindrome (reads the same forwards and backwards).\n",
        "\n",
        "s2 = input(\"Enter the word : \")\n",
        "s3 = s2.lower()\n",
        "s4 = s3[: : -1]\n",
        "if s4 == s3:\n",
        "  print(\"Its a palindrome\")\n",
        "else:\n",
        "  print (\"Its not a palindrome\")\n"
      ],
      "metadata": {
        "colab": {
          "base_uri": "https://localhost:8080/"
        },
        "id": "KGVhm4FqBqY9",
        "outputId": "f9e18867-361d-4e28-d0ed-038dd97eab96"
      },
      "execution_count": null,
      "outputs": [
        {
          "output_type": "stream",
          "name": "stdout",
          "text": [
            "Enter the word : eye\n",
            "Its a palindrome\n"
          ]
        }
      ]
    },
    {
      "cell_type": "code",
      "source": [
        "# 5.Create a program that takes a string as input and removes all the spaces from it. Print the modified string without spaces.\n",
        "string = input(\"Enter the string : \")\n",
        "modified_string = string.replace(\" \", \"\")\n",
        "print(modified_string)"
      ],
      "metadata": {
        "colab": {
          "base_uri": "https://localhost:8080/"
        },
        "id": "EK8nDi0QC4yO",
        "outputId": "aba58ad0-9160-4717-f6a3-3186199e0668"
      },
      "execution_count": null,
      "outputs": [
        {
          "output_type": "stream",
          "name": "stdout",
          "text": [
            "Enter the string : Lets have a pizza\n",
            "Letshaveapizza\n"
          ]
        }
      ]
    },
    {
      "cell_type": "code",
      "source": [],
      "metadata": {
        "id": "L5FMVEfOSbwi"
      },
      "execution_count": null,
      "outputs": []
    }
  ]
}